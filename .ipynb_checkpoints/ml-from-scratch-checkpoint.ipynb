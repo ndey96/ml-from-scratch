{
 "cells": [
  {
   "cell_type": "code",
   "execution_count": 9,
   "metadata": {
    "collapsed": true
   },
   "outputs": [],
   "source": [
    "# Linear regression\n",
    "import numpy as np"
   ]
  },
  {
   "cell_type": "code",
   "execution_count": 14,
   "metadata": {},
   "outputs": [
    {
     "data": {
      "text/plain": [
       "[0.99999999999999467, 1.0000000000000024]"
      ]
     },
     "execution_count": 14,
     "metadata": {},
     "output_type": "execute_result"
    }
   ],
   "source": [
    "x = np.array([1,2,3])\n",
    "y = np.array([2,3,4])\n",
    "# should be y_hat = 1 + x\n",
    "theta = [0.1, 0.1] # Regression params\n",
    "\n",
    "def loss(x, y, theta):\n",
    "    return np.sum(np.square(y_hat(x, theta) - y))\n",
    "\n",
    "def gradient_descent(x, y, theta, steps, lr=0.1, eps=0.1):\n",
    "    m = float(len(x))\n",
    "#     for _ in range(steps):\n",
    "    while loss(x, y )\n",
    "        diff = y_hat(x, theta) - y\n",
    "        theta[0] = theta[0] - lr*(1/m)*np.sum(diff)\n",
    "        theta[1] = theta[1] - lr*(1/m)*np.sum(diff*x)\n",
    "    return theta\n",
    "\n",
    "def y_hat(x, theta):\n",
    "    return theta[0] + x * theta[1]\n",
    "\n",
    "gradient_descent(x, y, theta, steps=10000)"
   ]
  }
 ],
 "metadata": {
  "kernelspec": {
   "display_name": "Python 2",
   "language": "python",
   "name": "python2"
  },
  "language_info": {
   "codemirror_mode": {
    "name": "ipython",
    "version": 2
   },
   "file_extension": ".py",
   "mimetype": "text/x-python",
   "name": "python",
   "nbconvert_exporter": "python",
   "pygments_lexer": "ipython2",
   "version": "2.7.13"
  }
 },
 "nbformat": 4,
 "nbformat_minor": 2
}
