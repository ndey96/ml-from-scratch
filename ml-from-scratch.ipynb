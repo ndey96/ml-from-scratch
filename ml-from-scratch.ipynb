{
 "cells": [
  {
   "cell_type": "code",
   "execution_count": 34,
   "metadata": {},
   "outputs": [],
   "source": [
    "# Linear regression\n",
    "import numpy as np"
   ]
  },
  {
   "cell_type": "code",
   "execution_count": 35,
   "metadata": {},
   "outputs": [
    {
     "name": "stdout",
     "output_type": "stream",
     "text": [
      "[0.2 0.3 0.4]\n"
     ]
    }
   ],
   "source": [
    "x = np.array([1,2,3])\n",
    "y = np.array([2,3,4])\n",
    "# should be y_hat = 1 + x\n",
    "theta = [0.1, 0.1] # Regression params\n",
    "\n",
    "def y_hat(x, theta):\n",
    "    return theta[0] + x * theta[1]\n",
    "\n",
    "print(y_hat(x, theta))"
   ]
  },
  {
   "cell_type": "code",
   "execution_count": 36,
   "metadata": {},
   "outputs": [],
   "source": [
    "def gradient_descent(x, y, theta, steps, lr=0.1):\n",
    "    m = float(len(x))\n",
    "    for _ in range(steps):\n",
    "        diff = y_hat(x, theta) - y\n",
    "        theta[0] = theta[0] - lr*(1/m)*np.sum(diff)\n",
    "        theta[1] = theta[1] - lr*(1/m)*np.sum(diff*x)\n",
    "    return theta"
   ]
  },
  {
   "cell_type": "code",
   "execution_count": 37,
   "metadata": {
    "scrolled": true
   },
   "outputs": [
    {
     "data": {
      "text/plain": [
       "[0.9999999999999947, 1.0000000000000024]"
      ]
     },
     "execution_count": 37,
     "metadata": {},
     "output_type": "execute_result"
    }
   ],
   "source": [
    "# diff = y_hat(x, theta) - y\n",
    "# print(0.1*(1/3)*np.sum(diff))\n",
    "gradient_descent(x, y, theta, steps=10000)"
   ]
  },
  {
   "cell_type": "code",
   "execution_count": 45,
   "metadata": {},
   "outputs": [],
   "source": [
    "x = np.array([\n",
    "    [1,2],\n",
    "    [2,3],\n",
    "    [3,4],\n",
    "    [4,5],\n",
    "])\n",
    "y = np.array([4,6,8,10])\n",
    "theta = [0.1, 0.2, 0.1]\n",
    "# should be y_hat = 1 + x1 + x2\n",
    "def y_hat(x, theta):\n",
    "    return theta[0] + np.sum(x*theta[1:], axis=1)"
   ]
  },
  {
   "cell_type": "code",
   "execution_count": 46,
   "metadata": {},
   "outputs": [
    {
     "data": {
      "text/plain": [
       "array([0.4, 0.7, 1. , 1.3])"
      ]
     },
     "execution_count": 46,
     "metadata": {},
     "output_type": "execute_result"
    }
   ],
   "source": [
    "np.sum(x*theta[1:], axis=1)"
   ]
  },
  {
   "cell_type": "code",
   "execution_count": 56,
   "metadata": {},
   "outputs": [
    {
     "name": "stdout",
     "output_type": "stream",
     "text": [
      "[2 3]\n"
     ]
    }
   ],
   "source": [
    "diff = y_hat(x, theta) - y\n",
    "# np.sum(diff*x[:][1])\n",
    "print(x[:][1])"
   ]
  },
  {
   "cell_type": "code",
   "execution_count": null,
   "metadata": {},
   "outputs": [],
   "source": [
    "def gradient_descent(x, y, theta, steps, lr=0.1):\n",
    "    m = float(len(x))\n",
    "    for _ in range(steps):\n",
    "        diff = y_hat(x, theta) - y\n",
    "        theta[0] = theta[0] - lr*(1/m)*np.sum(diff)\n",
    "        theta[1] = theta[1] - lr*(1/m)*np.sum(diff*x)\n",
    "    return theta"
   ]
  }
 ],
 "metadata": {
  "kernelspec": {
   "display_name": "Python 2",
   "language": "python",
   "name": "python2"
  },
  "language_info": {
   "codemirror_mode": {
    "name": "ipython",
    "version": 2
   },
   "file_extension": ".py",
   "mimetype": "text/x-python",
   "name": "python",
   "nbconvert_exporter": "python",
   "pygments_lexer": "ipython2",
   "version": "2.7.14"
  }
 },
 "nbformat": 4,
 "nbformat_minor": 2
}
